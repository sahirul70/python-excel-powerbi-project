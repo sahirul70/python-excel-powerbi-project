{
 "cells": [
  {
   "cell_type": "markdown",
   "id": "3df710db",
   "metadata": {},
   "source": [
    "# Project Name: Financial-Data-Analyis using python and create a report"
   ]
  },
  {
   "cell_type": "markdown",
   "id": "fc241571",
   "metadata": {},
   "source": [
    "Import laibary "
   ]
  },
  {
   "cell_type": "code",
   "execution_count": 1,
   "id": "4b132a76",
   "metadata": {},
   "outputs": [],
   "source": [
    "import numpy as np\n",
    "import pandas as pd\n",
    "import matplotlib.pyplot as plt\n",
    "import seaborn as sns \n",
    "%matplotlib inline "
   ]
  },
  {
   "cell_type": "markdown",
   "id": "842f0959",
   "metadata": {},
   "source": [
    "read data from localhost this is financial data set "
   ]
  },
  {
   "cell_type": "code",
   "execution_count": 2,
   "id": "b090608b",
   "metadata": {},
   "outputs": [],
   "source": [
    "df = pd.read_csv('Financial-Dashboard.csv')"
   ]
  },
  {
   "cell_type": "code",
   "execution_count": 3,
   "id": "ca43103d",
   "metadata": {},
   "outputs": [
    {
     "data": {
      "text/html": [
       "<div>\n",
       "<style scoped>\n",
       "    .dataframe tbody tr th:only-of-type {\n",
       "        vertical-align: middle;\n",
       "    }\n",
       "\n",
       "    .dataframe tbody tr th {\n",
       "        vertical-align: top;\n",
       "    }\n",
       "\n",
       "    .dataframe thead th {\n",
       "        text-align: right;\n",
       "    }\n",
       "</style>\n",
       "<table border=\"1\" class=\"dataframe\">\n",
       "  <thead>\n",
       "    <tr style=\"text-align: right;\">\n",
       "      <th></th>\n",
       "      <th>MonthName</th>\n",
       "      <th>Year</th>\n",
       "      <th>Customer</th>\n",
       "      <th>Country</th>\n",
       "      <th>Company Size</th>\n",
       "      <th>Industry</th>\n",
       "      <th>Revenue</th>\n",
       "      <th>Revenue2</th>\n",
       "      <th>Month Num</th>\n",
       "      <th>Unnamed: 9</th>\n",
       "      <th>Unnamed: 10</th>\n",
       "      <th>Unnamed: 11</th>\n",
       "      <th>Unnamed: 12</th>\n",
       "    </tr>\n",
       "  </thead>\n",
       "  <tbody>\n",
       "    <tr>\n",
       "      <th>0</th>\n",
       "      <td>January</td>\n",
       "      <td>2022</td>\n",
       "      <td>Customer #39</td>\n",
       "      <td>Italy</td>\n",
       "      <td>11-50 Employees</td>\n",
       "      <td>Bevarage</td>\n",
       "      <td>?3,200.00</td>\n",
       "      <td>3,200.00</td>\n",
       "      <td>1</td>\n",
       "      <td>NaN</td>\n",
       "      <td>NaN</td>\n",
       "      <td></td>\n",
       "      <td></td>\n",
       "    </tr>\n",
       "    <tr>\n",
       "      <th>1</th>\n",
       "      <td>January</td>\n",
       "      <td>2022</td>\n",
       "      <td>Customer #76</td>\n",
       "      <td>Italy</td>\n",
       "      <td>100-1000 Employees</td>\n",
       "      <td>Food</td>\n",
       "      <td>?5,315.00</td>\n",
       "      <td>5,315.00</td>\n",
       "      <td>1</td>\n",
       "      <td>NaN</td>\n",
       "      <td>NaN</td>\n",
       "      <td></td>\n",
       "      <td></td>\n",
       "    </tr>\n",
       "    <tr>\n",
       "      <th>2</th>\n",
       "      <td>January</td>\n",
       "      <td>2022</td>\n",
       "      <td>Customer #100</td>\n",
       "      <td>Germany</td>\n",
       "      <td>1-10 Employees</td>\n",
       "      <td>Food</td>\n",
       "      <td>?15,499.00</td>\n",
       "      <td>15,499.00</td>\n",
       "      <td>1</td>\n",
       "      <td>NaN</td>\n",
       "      <td>NaN</td>\n",
       "      <td></td>\n",
       "      <td></td>\n",
       "    </tr>\n",
       "    <tr>\n",
       "      <th>3</th>\n",
       "      <td>January</td>\n",
       "      <td>2022</td>\n",
       "      <td>Customer #106</td>\n",
       "      <td>Italy</td>\n",
       "      <td>100-1000 Employees</td>\n",
       "      <td>Food</td>\n",
       "      <td>?13,290.00</td>\n",
       "      <td>13,290.00</td>\n",
       "      <td>1</td>\n",
       "      <td>NaN</td>\n",
       "      <td>NaN</td>\n",
       "      <td></td>\n",
       "      <td></td>\n",
       "    </tr>\n",
       "    <tr>\n",
       "      <th>4</th>\n",
       "      <td>January</td>\n",
       "      <td>2022</td>\n",
       "      <td>Customer #85</td>\n",
       "      <td>Italy</td>\n",
       "      <td>51-100 Employees</td>\n",
       "      <td>Chemical</td>\n",
       "      <td>?7,327.00</td>\n",
       "      <td>7,327.00</td>\n",
       "      <td>1</td>\n",
       "      <td>NaN</td>\n",
       "      <td>NaN</td>\n",
       "      <td></td>\n",
       "      <td></td>\n",
       "    </tr>\n",
       "    <tr>\n",
       "      <th>...</th>\n",
       "      <td>...</td>\n",
       "      <td>...</td>\n",
       "      <td>...</td>\n",
       "      <td>...</td>\n",
       "      <td>...</td>\n",
       "      <td>...</td>\n",
       "      <td>...</td>\n",
       "      <td>...</td>\n",
       "      <td>...</td>\n",
       "      <td>...</td>\n",
       "      <td>...</td>\n",
       "      <td>...</td>\n",
       "      <td>...</td>\n",
       "    </tr>\n",
       "    <tr>\n",
       "      <th>439</th>\n",
       "      <td>December</td>\n",
       "      <td>2023</td>\n",
       "      <td>Customer #8</td>\n",
       "      <td>Italy</td>\n",
       "      <td>11-50 Employees</td>\n",
       "      <td>Bevarage</td>\n",
       "      <td>?3,637.00</td>\n",
       "      <td>3,637.00</td>\n",
       "      <td>12</td>\n",
       "      <td>NaN</td>\n",
       "      <td>NaN</td>\n",
       "      <td></td>\n",
       "      <td></td>\n",
       "    </tr>\n",
       "    <tr>\n",
       "      <th>440</th>\n",
       "      <td>December</td>\n",
       "      <td>2023</td>\n",
       "      <td>Customer #13</td>\n",
       "      <td>France</td>\n",
       "      <td>11-50 Employees</td>\n",
       "      <td>Chemical</td>\n",
       "      <td>?5,111.00</td>\n",
       "      <td>5,111.00</td>\n",
       "      <td>12</td>\n",
       "      <td>NaN</td>\n",
       "      <td>NaN</td>\n",
       "      <td></td>\n",
       "      <td></td>\n",
       "    </tr>\n",
       "    <tr>\n",
       "      <th>441</th>\n",
       "      <td>December</td>\n",
       "      <td>2023</td>\n",
       "      <td>Customer #62</td>\n",
       "      <td>Norway</td>\n",
       "      <td>11-50 Employees</td>\n",
       "      <td>Food</td>\n",
       "      <td>?1,834.00</td>\n",
       "      <td>1,834.00</td>\n",
       "      <td>12</td>\n",
       "      <td>NaN</td>\n",
       "      <td>NaN</td>\n",
       "      <td></td>\n",
       "      <td></td>\n",
       "    </tr>\n",
       "    <tr>\n",
       "      <th>442</th>\n",
       "      <td>December</td>\n",
       "      <td>2023</td>\n",
       "      <td>Customer #84</td>\n",
       "      <td>Italy</td>\n",
       "      <td>11-50 Employees</td>\n",
       "      <td>Bevarage</td>\n",
       "      <td>?15,647.00</td>\n",
       "      <td>15,647.00</td>\n",
       "      <td>12</td>\n",
       "      <td>NaN</td>\n",
       "      <td>NaN</td>\n",
       "      <td></td>\n",
       "      <td></td>\n",
       "    </tr>\n",
       "    <tr>\n",
       "      <th>443</th>\n",
       "      <td>December</td>\n",
       "      <td>2023</td>\n",
       "      <td>Customer #36</td>\n",
       "      <td>Italy</td>\n",
       "      <td>100-1000 Employees</td>\n",
       "      <td>Food</td>\n",
       "      <td>?9,498.00</td>\n",
       "      <td>9,498.00</td>\n",
       "      <td>12</td>\n",
       "      <td>NaN</td>\n",
       "      <td>NaN</td>\n",
       "      <td></td>\n",
       "      <td></td>\n",
       "    </tr>\n",
       "  </tbody>\n",
       "</table>\n",
       "<p>444 rows × 13 columns</p>\n",
       "</div>"
      ],
      "text/plain": [
       "    MonthName  Year       Customer  Country        Company Size  Industry  \\\n",
       "0     January  2022   Customer #39    Italy     11-50 Employees  Bevarage   \n",
       "1     January  2022   Customer #76    Italy  100-1000 Employees      Food   \n",
       "2     January  2022  Customer #100  Germany      1-10 Employees      Food   \n",
       "3     January  2022  Customer #106    Italy  100-1000 Employees      Food   \n",
       "4     January  2022   Customer #85    Italy    51-100 Employees  Chemical   \n",
       "..        ...   ...            ...      ...                 ...       ...   \n",
       "439  December  2023    Customer #8    Italy     11-50 Employees  Bevarage   \n",
       "440  December  2023   Customer #13   France     11-50 Employees  Chemical   \n",
       "441  December  2023   Customer #62   Norway     11-50 Employees      Food   \n",
       "442  December  2023   Customer #84    Italy     11-50 Employees  Bevarage   \n",
       "443  December  2023   Customer #36    Italy  100-1000 Employees      Food   \n",
       "\n",
       "        Revenue   Revenue2  Month Num  Unnamed: 9  Unnamed: 10 Unnamed: 11  \\\n",
       "0     ?3,200.00   3,200.00          1         NaN          NaN               \n",
       "1     ?5,315.00   5,315.00          1         NaN          NaN               \n",
       "2    ?15,499.00  15,499.00          1         NaN          NaN               \n",
       "3    ?13,290.00  13,290.00          1         NaN          NaN               \n",
       "4     ?7,327.00   7,327.00          1         NaN          NaN               \n",
       "..          ...        ...        ...         ...          ...         ...   \n",
       "439   ?3,637.00   3,637.00         12         NaN          NaN               \n",
       "440   ?5,111.00   5,111.00         12         NaN          NaN               \n",
       "441   ?1,834.00   1,834.00         12         NaN          NaN               \n",
       "442  ?15,647.00  15,647.00         12         NaN          NaN               \n",
       "443   ?9,498.00   9,498.00         12         NaN          NaN               \n",
       "\n",
       "    Unnamed: 12  \n",
       "0                \n",
       "1                \n",
       "2                \n",
       "3                \n",
       "4                \n",
       "..          ...  \n",
       "439              \n",
       "440              \n",
       "441              \n",
       "442              \n",
       "443              \n",
       "\n",
       "[444 rows x 13 columns]"
      ]
     },
     "execution_count": 3,
     "metadata": {},
     "output_type": "execute_result"
    }
   ],
   "source": [
    "df\n"
   ]
  },
  {
   "cell_type": "markdown",
   "id": "1bc34bf5",
   "metadata": {},
   "source": [
    "Drop some columns there is no need "
   ]
  },
  {
   "cell_type": "code",
   "execution_count": 4,
   "id": "f62828e3",
   "metadata": {},
   "outputs": [
    {
     "data": {
      "text/html": [
       "<div>\n",
       "<style scoped>\n",
       "    .dataframe tbody tr th:only-of-type {\n",
       "        vertical-align: middle;\n",
       "    }\n",
       "\n",
       "    .dataframe tbody tr th {\n",
       "        vertical-align: top;\n",
       "    }\n",
       "\n",
       "    .dataframe thead th {\n",
       "        text-align: right;\n",
       "    }\n",
       "</style>\n",
       "<table border=\"1\" class=\"dataframe\">\n",
       "  <thead>\n",
       "    <tr style=\"text-align: right;\">\n",
       "      <th></th>\n",
       "      <th>MonthName</th>\n",
       "      <th>Year</th>\n",
       "      <th>Customer</th>\n",
       "      <th>Country</th>\n",
       "      <th>Company Size</th>\n",
       "      <th>Industry</th>\n",
       "      <th>Revenue2</th>\n",
       "      <th>Month Num</th>\n",
       "    </tr>\n",
       "  </thead>\n",
       "  <tbody>\n",
       "    <tr>\n",
       "      <th>0</th>\n",
       "      <td>January</td>\n",
       "      <td>2022</td>\n",
       "      <td>Customer #39</td>\n",
       "      <td>Italy</td>\n",
       "      <td>11-50 Employees</td>\n",
       "      <td>Bevarage</td>\n",
       "      <td>3,200.00</td>\n",
       "      <td>1</td>\n",
       "    </tr>\n",
       "    <tr>\n",
       "      <th>1</th>\n",
       "      <td>January</td>\n",
       "      <td>2022</td>\n",
       "      <td>Customer #76</td>\n",
       "      <td>Italy</td>\n",
       "      <td>100-1000 Employees</td>\n",
       "      <td>Food</td>\n",
       "      <td>5,315.00</td>\n",
       "      <td>1</td>\n",
       "    </tr>\n",
       "    <tr>\n",
       "      <th>2</th>\n",
       "      <td>January</td>\n",
       "      <td>2022</td>\n",
       "      <td>Customer #100</td>\n",
       "      <td>Germany</td>\n",
       "      <td>1-10 Employees</td>\n",
       "      <td>Food</td>\n",
       "      <td>15,499.00</td>\n",
       "      <td>1</td>\n",
       "    </tr>\n",
       "    <tr>\n",
       "      <th>3</th>\n",
       "      <td>January</td>\n",
       "      <td>2022</td>\n",
       "      <td>Customer #106</td>\n",
       "      <td>Italy</td>\n",
       "      <td>100-1000 Employees</td>\n",
       "      <td>Food</td>\n",
       "      <td>13,290.00</td>\n",
       "      <td>1</td>\n",
       "    </tr>\n",
       "    <tr>\n",
       "      <th>4</th>\n",
       "      <td>January</td>\n",
       "      <td>2022</td>\n",
       "      <td>Customer #85</td>\n",
       "      <td>Italy</td>\n",
       "      <td>51-100 Employees</td>\n",
       "      <td>Chemical</td>\n",
       "      <td>7,327.00</td>\n",
       "      <td>1</td>\n",
       "    </tr>\n",
       "    <tr>\n",
       "      <th>...</th>\n",
       "      <td>...</td>\n",
       "      <td>...</td>\n",
       "      <td>...</td>\n",
       "      <td>...</td>\n",
       "      <td>...</td>\n",
       "      <td>...</td>\n",
       "      <td>...</td>\n",
       "      <td>...</td>\n",
       "    </tr>\n",
       "    <tr>\n",
       "      <th>439</th>\n",
       "      <td>December</td>\n",
       "      <td>2023</td>\n",
       "      <td>Customer #8</td>\n",
       "      <td>Italy</td>\n",
       "      <td>11-50 Employees</td>\n",
       "      <td>Bevarage</td>\n",
       "      <td>3,637.00</td>\n",
       "      <td>12</td>\n",
       "    </tr>\n",
       "    <tr>\n",
       "      <th>440</th>\n",
       "      <td>December</td>\n",
       "      <td>2023</td>\n",
       "      <td>Customer #13</td>\n",
       "      <td>France</td>\n",
       "      <td>11-50 Employees</td>\n",
       "      <td>Chemical</td>\n",
       "      <td>5,111.00</td>\n",
       "      <td>12</td>\n",
       "    </tr>\n",
       "    <tr>\n",
       "      <th>441</th>\n",
       "      <td>December</td>\n",
       "      <td>2023</td>\n",
       "      <td>Customer #62</td>\n",
       "      <td>Norway</td>\n",
       "      <td>11-50 Employees</td>\n",
       "      <td>Food</td>\n",
       "      <td>1,834.00</td>\n",
       "      <td>12</td>\n",
       "    </tr>\n",
       "    <tr>\n",
       "      <th>442</th>\n",
       "      <td>December</td>\n",
       "      <td>2023</td>\n",
       "      <td>Customer #84</td>\n",
       "      <td>Italy</td>\n",
       "      <td>11-50 Employees</td>\n",
       "      <td>Bevarage</td>\n",
       "      <td>15,647.00</td>\n",
       "      <td>12</td>\n",
       "    </tr>\n",
       "    <tr>\n",
       "      <th>443</th>\n",
       "      <td>December</td>\n",
       "      <td>2023</td>\n",
       "      <td>Customer #36</td>\n",
       "      <td>Italy</td>\n",
       "      <td>100-1000 Employees</td>\n",
       "      <td>Food</td>\n",
       "      <td>9,498.00</td>\n",
       "      <td>12</td>\n",
       "    </tr>\n",
       "  </tbody>\n",
       "</table>\n",
       "<p>444 rows × 8 columns</p>\n",
       "</div>"
      ],
      "text/plain": [
       "    MonthName  Year       Customer  Country        Company Size  Industry  \\\n",
       "0     January  2022   Customer #39    Italy     11-50 Employees  Bevarage   \n",
       "1     January  2022   Customer #76    Italy  100-1000 Employees      Food   \n",
       "2     January  2022  Customer #100  Germany      1-10 Employees      Food   \n",
       "3     January  2022  Customer #106    Italy  100-1000 Employees      Food   \n",
       "4     January  2022   Customer #85    Italy    51-100 Employees  Chemical   \n",
       "..        ...   ...            ...      ...                 ...       ...   \n",
       "439  December  2023    Customer #8    Italy     11-50 Employees  Bevarage   \n",
       "440  December  2023   Customer #13   France     11-50 Employees  Chemical   \n",
       "441  December  2023   Customer #62   Norway     11-50 Employees      Food   \n",
       "442  December  2023   Customer #84    Italy     11-50 Employees  Bevarage   \n",
       "443  December  2023   Customer #36    Italy  100-1000 Employees      Food   \n",
       "\n",
       "      Revenue2  Month Num  \n",
       "0     3,200.00          1  \n",
       "1     5,315.00          1  \n",
       "2    15,499.00          1  \n",
       "3    13,290.00          1  \n",
       "4     7,327.00          1  \n",
       "..         ...        ...  \n",
       "439   3,637.00         12  \n",
       "440   5,111.00         12  \n",
       "441   1,834.00         12  \n",
       "442  15,647.00         12  \n",
       "443   9,498.00         12  \n",
       "\n",
       "[444 rows x 8 columns]"
      ]
     },
     "execution_count": 4,
     "metadata": {},
     "output_type": "execute_result"
    }
   ],
   "source": [
    "df=df.drop(['Unnamed: 12', 'Unnamed: 11','Unnamed: 10','Unnamed: 9','Revenue'], axis=1)\n",
    "df"
   ]
  },
  {
   "cell_type": "markdown",
   "id": "4de3d968",
   "metadata": {},
   "source": [
    "Overall idea this data set column data type"
   ]
  },
  {
   "cell_type": "code",
   "execution_count": 5,
   "id": "390ec590",
   "metadata": {},
   "outputs": [
    {
     "name": "stdout",
     "output_type": "stream",
     "text": [
      "<class 'pandas.core.frame.DataFrame'>\n",
      "RangeIndex: 444 entries, 0 to 443\n",
      "Data columns (total 8 columns):\n",
      " #   Column        Non-Null Count  Dtype \n",
      "---  ------        --------------  ----- \n",
      " 0   MonthName     444 non-null    object\n",
      " 1   Year          444 non-null    int64 \n",
      " 2   Customer      444 non-null    object\n",
      " 3   Country       444 non-null    object\n",
      " 4   Company Size  444 non-null    object\n",
      " 5   Industry      444 non-null    object\n",
      " 6   Revenue2      444 non-null    object\n",
      " 7   Month Num     444 non-null    int64 \n",
      "dtypes: int64(2), object(6)\n",
      "memory usage: 27.9+ KB\n"
     ]
    }
   ],
   "source": [
    "df.info()"
   ]
  },
  {
   "cell_type": "markdown",
   "id": "80fdb743",
   "metadata": {},
   "source": [
    "Revenue column change data type and drop Recenue column"
   ]
  },
  {
   "cell_type": "code",
   "execution_count": 6,
   "id": "7582892e",
   "metadata": {},
   "outputs": [
    {
     "data": {
      "text/html": [
       "<div>\n",
       "<style scoped>\n",
       "    .dataframe tbody tr th:only-of-type {\n",
       "        vertical-align: middle;\n",
       "    }\n",
       "\n",
       "    .dataframe tbody tr th {\n",
       "        vertical-align: top;\n",
       "    }\n",
       "\n",
       "    .dataframe thead th {\n",
       "        text-align: right;\n",
       "    }\n",
       "</style>\n",
       "<table border=\"1\" class=\"dataframe\">\n",
       "  <thead>\n",
       "    <tr style=\"text-align: right;\">\n",
       "      <th></th>\n",
       "      <th>MonthName</th>\n",
       "      <th>Year</th>\n",
       "      <th>Customer</th>\n",
       "      <th>Country</th>\n",
       "      <th>Company Size</th>\n",
       "      <th>Industry</th>\n",
       "      <th>Month Num</th>\n",
       "      <th>Revenue</th>\n",
       "    </tr>\n",
       "  </thead>\n",
       "  <tbody>\n",
       "    <tr>\n",
       "      <th>0</th>\n",
       "      <td>January</td>\n",
       "      <td>2022</td>\n",
       "      <td>Customer #39</td>\n",
       "      <td>Italy</td>\n",
       "      <td>11-50 Employees</td>\n",
       "      <td>Bevarage</td>\n",
       "      <td>1</td>\n",
       "      <td>3200.0</td>\n",
       "    </tr>\n",
       "    <tr>\n",
       "      <th>1</th>\n",
       "      <td>January</td>\n",
       "      <td>2022</td>\n",
       "      <td>Customer #76</td>\n",
       "      <td>Italy</td>\n",
       "      <td>100-1000 Employees</td>\n",
       "      <td>Food</td>\n",
       "      <td>1</td>\n",
       "      <td>5315.0</td>\n",
       "    </tr>\n",
       "    <tr>\n",
       "      <th>2</th>\n",
       "      <td>January</td>\n",
       "      <td>2022</td>\n",
       "      <td>Customer #100</td>\n",
       "      <td>Germany</td>\n",
       "      <td>1-10 Employees</td>\n",
       "      <td>Food</td>\n",
       "      <td>1</td>\n",
       "      <td>15499.0</td>\n",
       "    </tr>\n",
       "    <tr>\n",
       "      <th>3</th>\n",
       "      <td>January</td>\n",
       "      <td>2022</td>\n",
       "      <td>Customer #106</td>\n",
       "      <td>Italy</td>\n",
       "      <td>100-1000 Employees</td>\n",
       "      <td>Food</td>\n",
       "      <td>1</td>\n",
       "      <td>13290.0</td>\n",
       "    </tr>\n",
       "    <tr>\n",
       "      <th>4</th>\n",
       "      <td>January</td>\n",
       "      <td>2022</td>\n",
       "      <td>Customer #85</td>\n",
       "      <td>Italy</td>\n",
       "      <td>51-100 Employees</td>\n",
       "      <td>Chemical</td>\n",
       "      <td>1</td>\n",
       "      <td>7327.0</td>\n",
       "    </tr>\n",
       "    <tr>\n",
       "      <th>...</th>\n",
       "      <td>...</td>\n",
       "      <td>...</td>\n",
       "      <td>...</td>\n",
       "      <td>...</td>\n",
       "      <td>...</td>\n",
       "      <td>...</td>\n",
       "      <td>...</td>\n",
       "      <td>...</td>\n",
       "    </tr>\n",
       "    <tr>\n",
       "      <th>439</th>\n",
       "      <td>December</td>\n",
       "      <td>2023</td>\n",
       "      <td>Customer #8</td>\n",
       "      <td>Italy</td>\n",
       "      <td>11-50 Employees</td>\n",
       "      <td>Bevarage</td>\n",
       "      <td>12</td>\n",
       "      <td>3637.0</td>\n",
       "    </tr>\n",
       "    <tr>\n",
       "      <th>440</th>\n",
       "      <td>December</td>\n",
       "      <td>2023</td>\n",
       "      <td>Customer #13</td>\n",
       "      <td>France</td>\n",
       "      <td>11-50 Employees</td>\n",
       "      <td>Chemical</td>\n",
       "      <td>12</td>\n",
       "      <td>5111.0</td>\n",
       "    </tr>\n",
       "    <tr>\n",
       "      <th>441</th>\n",
       "      <td>December</td>\n",
       "      <td>2023</td>\n",
       "      <td>Customer #62</td>\n",
       "      <td>Norway</td>\n",
       "      <td>11-50 Employees</td>\n",
       "      <td>Food</td>\n",
       "      <td>12</td>\n",
       "      <td>1834.0</td>\n",
       "    </tr>\n",
       "    <tr>\n",
       "      <th>442</th>\n",
       "      <td>December</td>\n",
       "      <td>2023</td>\n",
       "      <td>Customer #84</td>\n",
       "      <td>Italy</td>\n",
       "      <td>11-50 Employees</td>\n",
       "      <td>Bevarage</td>\n",
       "      <td>12</td>\n",
       "      <td>15647.0</td>\n",
       "    </tr>\n",
       "    <tr>\n",
       "      <th>443</th>\n",
       "      <td>December</td>\n",
       "      <td>2023</td>\n",
       "      <td>Customer #36</td>\n",
       "      <td>Italy</td>\n",
       "      <td>100-1000 Employees</td>\n",
       "      <td>Food</td>\n",
       "      <td>12</td>\n",
       "      <td>9498.0</td>\n",
       "    </tr>\n",
       "  </tbody>\n",
       "</table>\n",
       "<p>444 rows × 8 columns</p>\n",
       "</div>"
      ],
      "text/plain": [
       "    MonthName  Year       Customer  Country        Company Size  Industry  \\\n",
       "0     January  2022   Customer #39    Italy     11-50 Employees  Bevarage   \n",
       "1     January  2022   Customer #76    Italy  100-1000 Employees      Food   \n",
       "2     January  2022  Customer #100  Germany      1-10 Employees      Food   \n",
       "3     January  2022  Customer #106    Italy  100-1000 Employees      Food   \n",
       "4     January  2022   Customer #85    Italy    51-100 Employees  Chemical   \n",
       "..        ...   ...            ...      ...                 ...       ...   \n",
       "439  December  2023    Customer #8    Italy     11-50 Employees  Bevarage   \n",
       "440  December  2023   Customer #13   France     11-50 Employees  Chemical   \n",
       "441  December  2023   Customer #62   Norway     11-50 Employees      Food   \n",
       "442  December  2023   Customer #84    Italy     11-50 Employees  Bevarage   \n",
       "443  December  2023   Customer #36    Italy  100-1000 Employees      Food   \n",
       "\n",
       "     Month Num  Revenue  \n",
       "0            1   3200.0  \n",
       "1            1   5315.0  \n",
       "2            1  15499.0  \n",
       "3            1  13290.0  \n",
       "4            1   7327.0  \n",
       "..         ...      ...  \n",
       "439         12   3637.0  \n",
       "440         12   5111.0  \n",
       "441         12   1834.0  \n",
       "442         12  15647.0  \n",
       "443         12   9498.0  \n",
       "\n",
       "[444 rows x 8 columns]"
      ]
     },
     "execution_count": 6,
     "metadata": {},
     "output_type": "execute_result"
    }
   ],
   "source": [
    "df['Revenue'] = df['Revenue2'].str.replace(',','').astype(float)\n",
    "df = df.drop(['Revenue2'],axis=1)\n",
    "df"
   ]
  },
  {
   "cell_type": "code",
   "execution_count": 7,
   "id": "13bb41c4",
   "metadata": {},
   "outputs": [
    {
     "data": {
      "text/html": [
       "<div>\n",
       "<style scoped>\n",
       "    .dataframe tbody tr th:only-of-type {\n",
       "        vertical-align: middle;\n",
       "    }\n",
       "\n",
       "    .dataframe tbody tr th {\n",
       "        vertical-align: top;\n",
       "    }\n",
       "\n",
       "    .dataframe thead th {\n",
       "        text-align: right;\n",
       "    }\n",
       "</style>\n",
       "<table border=\"1\" class=\"dataframe\">\n",
       "  <thead>\n",
       "    <tr style=\"text-align: right;\">\n",
       "      <th></th>\n",
       "      <th>Year</th>\n",
       "      <th>Month Num</th>\n",
       "      <th>Revenue</th>\n",
       "    </tr>\n",
       "  </thead>\n",
       "  <tbody>\n",
       "    <tr>\n",
       "      <th>count</th>\n",
       "      <td>444.000000</td>\n",
       "      <td>444.000000</td>\n",
       "      <td>444.000000</td>\n",
       "    </tr>\n",
       "    <tr>\n",
       "      <th>mean</th>\n",
       "      <td>2022.533784</td>\n",
       "      <td>6.572072</td>\n",
       "      <td>9197.709459</td>\n",
       "    </tr>\n",
       "    <tr>\n",
       "      <th>std</th>\n",
       "      <td>0.499420</td>\n",
       "      <td>3.561993</td>\n",
       "      <td>4793.109405</td>\n",
       "    </tr>\n",
       "    <tr>\n",
       "      <th>min</th>\n",
       "      <td>2022.000000</td>\n",
       "      <td>1.000000</td>\n",
       "      <td>1094.000000</td>\n",
       "    </tr>\n",
       "    <tr>\n",
       "      <th>25%</th>\n",
       "      <td>2022.000000</td>\n",
       "      <td>3.000000</td>\n",
       "      <td>4979.500000</td>\n",
       "    </tr>\n",
       "    <tr>\n",
       "      <th>50%</th>\n",
       "      <td>2023.000000</td>\n",
       "      <td>7.000000</td>\n",
       "      <td>9361.500000</td>\n",
       "    </tr>\n",
       "    <tr>\n",
       "      <th>75%</th>\n",
       "      <td>2023.000000</td>\n",
       "      <td>10.000000</td>\n",
       "      <td>13105.000000</td>\n",
       "    </tr>\n",
       "    <tr>\n",
       "      <th>max</th>\n",
       "      <td>2023.000000</td>\n",
       "      <td>12.000000</td>\n",
       "      <td>19591.000000</td>\n",
       "    </tr>\n",
       "  </tbody>\n",
       "</table>\n",
       "</div>"
      ],
      "text/plain": [
       "              Year   Month Num       Revenue\n",
       "count   444.000000  444.000000    444.000000\n",
       "mean   2022.533784    6.572072   9197.709459\n",
       "std       0.499420    3.561993   4793.109405\n",
       "min    2022.000000    1.000000   1094.000000\n",
       "25%    2022.000000    3.000000   4979.500000\n",
       "50%    2023.000000    7.000000   9361.500000\n",
       "75%    2023.000000   10.000000  13105.000000\n",
       "max    2023.000000   12.000000  19591.000000"
      ]
     },
     "execution_count": 7,
     "metadata": {},
     "output_type": "execute_result"
    }
   ],
   "source": [
    "df.describe()"
   ]
  },
  {
   "cell_type": "code",
   "execution_count": 14,
   "id": "da5c6904",
   "metadata": {},
   "outputs": [],
   "source": [
    "#Show all columns names"
   ]
  },
  {
   "cell_type": "code",
   "execution_count": 8,
   "id": "714e0667",
   "metadata": {},
   "outputs": [
    {
     "data": {
      "text/plain": [
       "Index(['MonthName', 'Year', 'Customer', 'Country', 'Company Size', 'Industry',\n",
       "       'Month Num', 'Revenue'],\n",
       "      dtype='object')"
      ]
     },
     "execution_count": 8,
     "metadata": {},
     "output_type": "execute_result"
    }
   ],
   "source": [
    "df.columns"
   ]
  },
  {
   "cell_type": "code",
   "execution_count": 11,
   "id": "39278314",
   "metadata": {},
   "outputs": [
    {
     "data": {
      "text/plain": [
       "array(['January', 'February', 'March', 'April', 'May', 'June', 'July',\n",
       "       'August', 'September', 'October', 'November', 'December'],\n",
       "      dtype=object)"
      ]
     },
     "execution_count": 11,
     "metadata": {},
     "output_type": "execute_result"
    }
   ],
   "source": [
    "df['MonthName'].unique()"
   ]
  },
  {
   "cell_type": "code",
   "execution_count": 13,
   "id": "a8d53542",
   "metadata": {},
   "outputs": [
    {
     "data": {
      "text/plain": [
       "June         19\n",
       "July         19\n",
       "January      29\n",
       "April        31\n",
       "September    31\n",
       "December     33\n",
       "February     38\n",
       "May          38\n",
       "August       42\n",
       "November     49\n",
       "October      51\n",
       "March        64\n",
       "Name: MonthName, dtype: int64"
      ]
     },
     "execution_count": 13,
     "metadata": {},
     "output_type": "execute_result"
    }
   ],
   "source": [
    "df['MonthName'].value_counts().sort_values()"
   ]
  },
  {
   "cell_type": "markdown",
   "id": "2adaa8ed",
   "metadata": {},
   "source": [
    "# Exploratory Data Analysis"
   ]
  },
  {
   "cell_type": "markdown",
   "id": "51b0db40",
   "metadata": {},
   "source": [
    "plotting a bar chart for Industry and it's count"
   ]
  },
  {
   "cell_type": "code",
   "execution_count": 15,
   "id": "2c218805",
   "metadata": {},
   "outputs": [
    {
     "data": {
      "image/png": "[encoded data removed]",
      "text/plain": [
       "<Figure size 640x480 with 1 Axes>"
      ]
     },
     "metadata": {},
     "output_type": "display_data"
    }
   ],
   "source": [
    "ax = sns.countplot(x = 'Industry',data = df)\n",
    "\n",
    "plt.title(\"Industry and it's count\")\n",
    "for bars in ax.containers:\n",
    "    ax.bar_label(bars)"
   ]
  },
  {
   "cell_type": "markdown",
   "id": "482ba526",
   "metadata": {},
   "source": [
    "Note: From above graphs we can see that most of the Popular Industry is  Bevarage."
   ]
  },
  {
   "cell_type": "raw",
   "id": "6bbf013d",
   "metadata": {},
   "source": [
    "Most of the Revenue genarate which Industry"
   ]
  },
  {
   "cell_type": "code",
   "execution_count": 18,
   "id": "35a13122",
   "metadata": {},
   "outputs": [
    {
     "data": {
      "text/plain": [
       "<Axes: title={'center': 'Height Revenue Industry'}, xlabel='Industry', ylabel='Revenue'>"
      ]
     },
     "execution_count": 18,
     "metadata": {},
     "output_type": "execute_result"
    },
    {
     "data": {
      "image/png": "[encoded data removed]",
      "text/plain": [
       "<Figure size 640x480 with 1 Axes>"
      ]
     },
     "metadata": {},
     "output_type": "display_data"
    }
   ],
   "source": [
    "Revenue_gen = df.groupby(['Industry'], as_index = False)['Revenue'].sum().sort_values(by='Revenue', ascending= True)\n",
    "\n",
    "plt.title('Height Revenue Industry')\n",
    "sns.barplot(x='Industry',y='Revenue', data=Revenue_gen)"
   ]
  },
  {
   "cell_type": "markdown",
   "id": "a5a42639",
   "metadata": {},
   "source": [
    "Note: From above graphs we can see that most of the Height Industry is Bevarage."
   ]
  },
  {
   "cell_type": "markdown",
   "id": "89fbaa23",
   "metadata": {},
   "source": [
    "Height Revenue Generate Month"
   ]
  },
  {
   "cell_type": "code",
   "execution_count": 42,
   "id": "fdc75e20",
   "metadata": {},
   "outputs": [
    {
     "data": {
      "image/png": "[encoded data removed]",
      "text/plain": [
       "<Figure size 1000x700 with 1 Axes>"
      ]
     },
     "metadata": {},
     "output_type": "display_data"
    }
   ],
   "source": [
    "Revenue_gen = df.groupby(['MonthName'], as_index = False)['Revenue'].sum().sort_values(by='Revenue', ascending= True)\n",
    "Revenue_gen  #.plot.line()\n",
    "sns.lineplot(data=Revenue_gen, x=\"MonthName\", y=\"Revenue\")\n",
    "plt.title('Height Revenue Generate Month')\n",
    "sns.set(rc={'figure.figsize':(10,7)})"
   ]
  },
  {
   "cell_type": "raw",
   "id": "29ae3eb9",
   "metadata": {},
   "source": [
    "Note: From above graphs we can see that most of the Height Revenue Generate Month  is Novenbor,October And March ."
   ]
  },
  {
   "cell_type": "markdown",
   "id": "e8a34d01",
   "metadata": {},
   "source": [
    "Company Size by Revenue Generate"
   ]
  },
  {
   "cell_type": "code",
   "execution_count": 43,
   "id": "e05b91a4",
   "metadata": {},
   "outputs": [
    {
     "data": {
      "text/plain": [
       "Text(0.5, 1.0, 'Company Size by Revenue Generate')"
      ]
     },
     "execution_count": 43,
     "metadata": {},
     "output_type": "execute_result"
    },
    {
     "data": {
      "image/png": "[encoded data removed]",
      "text/plain": [
       "<Figure size 1000x700 with 1 Axes>"
      ]
     },
     "metadata": {},
     "output_type": "display_data"
    }
   ],
   "source": [
    "Revenue_company = df.groupby(['Company Size'], as_index= False)['Revenue'].sum().sort_values(by='Revenue', ascending=True)\n",
    "\n",
    "sns.barplot(x='Company Size', y='Revenue',data=Revenue_company )\n",
    "plt.title('Company Size by Revenue Generate')"
   ]
  },
  {
   "cell_type": "raw",
   "id": "c306be93",
   "metadata": {},
   "source": [
    "Note: From above graphs we can see that most of the Height Revenue Generate Company Size is Employees 10 to 50 ."
   ]
  },
  {
   "cell_type": "markdown",
   "id": "7a71a027",
   "metadata": {},
   "source": [
    "Height Revenue Generate of the Year"
   ]
  },
  {
   "cell_type": "code",
   "execution_count": 59,
   "id": "09071948",
   "metadata": {},
   "outputs": [
    {
     "data": {
      "image/png": "[encoded data removed]",
      "text/plain": [
       "<Figure size 800x500 with 1 Axes>"
      ]
     },
     "metadata": {},
     "output_type": "display_data"
    }
   ],
   "source": [
    "Revenue_gen = df.groupby(['Year'], as_index = False)['Revenue'].sum().sort_values(by='Revenue', ascending= True)\n",
    "Revenue_gen  #.plot.line()\n",
    "sns.barplot(data=Revenue_gen, x=\"Year\", y=\"Revenue\")\n",
    "plt.title('Height Revenue Generate Year')\n",
    "sns.set(rc={'figure.figsize':(8,5)})"
   ]
  },
  {
   "cell_type": "markdown",
   "id": "5d5b8fbb",
   "metadata": {},
   "source": [
    "Note: From above graphs we can see that most of the Height Revenue Generate Year is 2023 ."
   ]
  },
  {
   "cell_type": "markdown",
   "id": "7e5d2bbb",
   "metadata": {},
   "source": [
    "Height Revenue Generate Countey"
   ]
  },
  {
   "cell_type": "code",
   "execution_count": 64,
   "id": "80da33d0",
   "metadata": {},
   "outputs": [
    {
     "data": {
      "image/png": "[encoded data removed]",
      "text/plain": [
       "<Figure size 1000x700 with 1 Axes>"
      ]
     },
     "metadata": {},
     "output_type": "display_data"
    }
   ],
   "source": [
    "Revenue_gen = df.groupby(['Country'], as_index = False)['Revenue'].sum().sort_values(by='Revenue', ascending= True)\n",
    "Revenue_gen  #.plot.line()\n",
    "sns.barplot(data=Revenue_gen, x=\"Country\", y=\"Revenue\")\n",
    "plt.title('Height Revenue Generate Countey')\n",
    "sns.set(rc={'figure.figsize':(10,7)})"
   ]
  },
  {
   "cell_type": "code",
   "execution_count": null,
   "id": "a73440e0",
   "metadata": {},
   "outputs": [],
   "source": [
    "Note: From above graphs we can see that most of the Height Revenue Generate Country is Italy"
   ]
  },
  {
   "cell_type": "markdown",
   "id": "d07bbc1a",
   "metadata": {},
   "source": [
    "# Conclusion:"
   ]
  },
  {
   "cell_type": "markdown",
   "id": "5142df3b",
   "metadata": {},
   "source": [
    "Height Revenue Generate Countey is italy,Height Revenue Generate Year is 2023,Company Size by Revenue Generate Employees 10 to 50,the Height Revenue Generate Month  is Novenbor,October And March,most of the Height Industry is Bevarage and most of the Popular Industry is Bevarage we data-driven decision."
   ]
  },
  {
   "cell_type": "markdown",
   "id": "e4389702",
   "metadata": {},
   "source": [
    "Md. Sairul Islam <br>\n",
    "Contact +8801788265670<br>\n",
    "github : https://github.com/sahirul70<br>\n",
    "linkdin :https://www.linkedin.com/in/sairulislam/"
   ]
  },
  {
   "cell_type": "code",
   "execution_count": null,
   "id": "9218c97c",
   "metadata": {},
   "outputs": [],
   "source": []
  }
 ],
 "metadata": {
  "kernelspec": {
   "display_name": "Python 3 (ipykernel)",
   "language": "python",
   "name": "python3"
  },
  "language_info": {
   "codemirror_mode": {
    "name": "ipython",
    "version": 3
   },
   "file_extension": ".py",
   "mimetype": "text/x-python",
   "name": "python",
   "nbconvert_exporter": "python",
   "pygments_lexer": "ipython3",
   "version": "3.11.3"
  }
 },
 "nbformat": 4,
 "nbformat_minor": 5
}
